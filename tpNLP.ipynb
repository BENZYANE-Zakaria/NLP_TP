{
  "nbformat": 4,
  "nbformat_minor": 0,
  "metadata": {
    "colab": {
      "name": "tpNLP.ipynb",
      "provenance": [],
      "collapsed_sections": [],
      "authorship_tag": "ABX9TyNWQcg1+xRIrBsj7UNVB2tw",
      "include_colab_link": true
    },
    "kernelspec": {
      "name": "python3",
      "display_name": "Python 3"
    },
    "language_info": {
      "name": "python"
    }
  },
  "cells": [
    {
      "cell_type": "markdown",
      "metadata": {
        "id": "view-in-github",
        "colab_type": "text"
      },
      "source": [
        "<a href=\"https://colab.research.google.com/github/benzakdev/NLP_TP/blob/main/tpNLP.ipynb\" target=\"_parent\"><img src=\"https://colab.research.google.com/assets/colab-badge.svg\" alt=\"Open In Colab\"/></a>"
      ]
    },
    {
      "cell_type": "code",
      "metadata": {
        "colab": {
          "base_uri": "https://localhost:8080/"
        },
        "id": "Ojr1IbAJLVUa",
        "outputId": "1017ec98-b06c-4d02-f6eb-06a2a248746b"
      },
      "source": [
        "#         Application of transformers\n",
        "\n",
        "#@title Titre par défaut       \n",
        "#!pip install transformers  # packages installed once\n",
        "from transformers import pipeline  # using pipeline\n",
        "\n",
        "\n",
        "nlp = pipeline('sentiment-analysis')\n",
        "result = nlp(\"I love you\")[0]\n",
        "print(f\"label: {result['label']}, with score: {round(result['score'], 4)}\")\n",
        "result = nlp(\"I hate you\")[0]\n",
        "print(f\"label: {result['label']}, with score:{round(result['score'], 4)}\")\n",
        "\n",
        "\n"
      ],
      "execution_count": 15,
      "outputs": [
        {
          "output_type": "stream",
          "text": [
            "label: POSITIVE, with score: 0.9999\n",
            "label: NEGATIVE, with score:0.9991\n"
          ],
          "name": "stdout"
        }
      ]
    },
    {
      "cell_type": "code",
      "metadata": {
        "id": "E9iF2v2vHP-8"
      },
      "source": [
        "#         Application of transformers\n",
        "   #  Using Arabic text\n",
        "#@title Titre par défaut       \n",
        "#!pip install transformers  # packages installed once\n",
        "from transformers import pipeline  # using pipeline\n",
        "\n",
        "# On adding this model to the code will give us possibility to work with some different languages\n",
        "\n",
        "nlp = pipeline('sentiment-analysis',model=\"nlptown/bert-base-multilingual-uncased-sentiment\")\n",
        "result = nlp(\"انا احبك\")[0]\n",
        "print(f\"label: {result['label']}, with score: {round(result['score'], 4)}\")\n",
        "result = nlp(\"انا مخطئ\")[0]\n",
        "print(f\"label: {result['label']}, with score:{round(result['score'], 4)}\")"
      ],
      "execution_count": null,
      "outputs": []
    }
  ]
}