{
  "nbformat": 4,
  "nbformat_minor": 0,
  "metadata": {
    "colab": {
      "name": "tpNLP.ipynb",
      "provenance": [],
      "collapsed_sections": [],
      "authorship_tag": "ABX9TyNBoBf5oEyXn9ECpl9GFZyD",
      "include_colab_link": true
    },
    "kernelspec": {
      "name": "python3",
      "display_name": "Python 3"
    },
    "language_info": {
      "name": "python"
    }
  },
  "cells": [
    {
      "cell_type": "markdown",
      "metadata": {
        "id": "view-in-github",
        "colab_type": "text"
      },
      "source": [
        "<a href=\"https://colab.research.google.com/github/benzakdev/NLP_TP/blob/main/tpNLP.ipynb\" target=\"_parent\"><img src=\"https://colab.research.google.com/assets/colab-badge.svg\" alt=\"Open In Colab\"/></a>"
      ]
    },
    {
      "cell_type": "code",
      "metadata": {
        "colab": {
          "base_uri": "https://localhost:8080/"
        },
        "id": "Ojr1IbAJLVUa",
        "outputId": "659b0e36-9019-4c39-f49e-85aed0aa2f42"
      },
      "source": [
        "#@title Titre par défaut\n",
        "#!pip install transformers\n",
        "from transformers import pipeline\n",
        "nlp = pipeline('sentiment-analysis',model=\"nlptown/bert-base-multilingual-uncased-sentiment\")\n",
        "result = nlp(\"انا احبك\")[0]\n",
        "print(f\"label: {result['label']}, with score: {round(result['score'], 4)}\")\n",
        "result = nlp(\"انا مخطئ\")[0]\n",
        "print(f\"label: {result['label']}, with score:{round(result['score'], 4)}\")\n",
        "\n",
        "\n"
      ],
      "execution_count": 13,
      "outputs": [
        {
          "output_type": "stream",
          "text": [
            "label: 5 stars, with score: 0.601\n",
            "label: 1 star, with score:0.3822\n"
          ],
          "name": "stdout"
        }
      ]
    }
  ]
}